{
 "cells": [
  {
   "cell_type": "code",
   "execution_count": 85,
   "metadata": {},
   "outputs": [],
   "source": [
    "import numpy as np\n",
    "import pandas as pd\n",
    "import matplotlib.pyplot as plt"
   ]
  },
  {
   "cell_type": "code",
   "execution_count": 86,
   "metadata": {},
   "outputs": [
    {
     "data": {
      "text/html": [
       "<div>\n",
       "<style scoped>\n",
       "    .dataframe tbody tr th:only-of-type {\n",
       "        vertical-align: middle;\n",
       "    }\n",
       "\n",
       "    .dataframe tbody tr th {\n",
       "        vertical-align: top;\n",
       "    }\n",
       "\n",
       "    .dataframe thead th {\n",
       "        text-align: right;\n",
       "    }\n",
       "</style>\n",
       "<table border=\"1\" class=\"dataframe\">\n",
       "  <thead>\n",
       "    <tr style=\"text-align: right;\">\n",
       "      <th></th>\n",
       "      <th>0</th>\n",
       "      <th>1</th>\n",
       "    </tr>\n",
       "  </thead>\n",
       "  <tbody>\n",
       "    <tr>\n",
       "      <th>0</th>\n",
       "      <td>0.000000</td>\n",
       "      <td>1.000000</td>\n",
       "    </tr>\n",
       "    <tr>\n",
       "      <th>1</th>\n",
       "      <td>12.872340</td>\n",
       "      <td>3.622990</td>\n",
       "    </tr>\n",
       "    <tr>\n",
       "      <th>2</th>\n",
       "      <td>1.000000</td>\n",
       "      <td>1.000000</td>\n",
       "    </tr>\n",
       "    <tr>\n",
       "      <th>3</th>\n",
       "      <td>13.910740</td>\n",
       "      <td>4.694889</td>\n",
       "    </tr>\n",
       "    <tr>\n",
       "      <th>4</th>\n",
       "      <td>2.000000</td>\n",
       "      <td>1.000000</td>\n",
       "    </tr>\n",
       "    <tr>\n",
       "      <th>...</th>\n",
       "      <td>...</td>\n",
       "      <td>...</td>\n",
       "    </tr>\n",
       "    <tr>\n",
       "      <th>63</th>\n",
       "      <td>7.718620</td>\n",
       "      <td>6.381560</td>\n",
       "    </tr>\n",
       "    <tr>\n",
       "      <th>64</th>\n",
       "      <td>32.000000</td>\n",
       "      <td>1.000000</td>\n",
       "    </tr>\n",
       "    <tr>\n",
       "      <th>65</th>\n",
       "      <td>6.848592</td>\n",
       "      <td>5.578642</td>\n",
       "    </tr>\n",
       "    <tr>\n",
       "      <th>66</th>\n",
       "      <td>33.000000</td>\n",
       "      <td>1.000000</td>\n",
       "    </tr>\n",
       "    <tr>\n",
       "      <th>67</th>\n",
       "      <td>5.883137</td>\n",
       "      <td>6.751390</td>\n",
       "    </tr>\n",
       "  </tbody>\n",
       "</table>\n",
       "<p>68 rows × 2 columns</p>\n",
       "</div>"
      ],
      "text/plain": [
       "            0         1\n",
       "0    0.000000  1.000000\n",
       "1   12.872340  3.622990\n",
       "2    1.000000  1.000000\n",
       "3   13.910740  4.694889\n",
       "4    2.000000  1.000000\n",
       "..        ...       ...\n",
       "63   7.718620  6.381560\n",
       "64  32.000000  1.000000\n",
       "65   6.848592  5.578642\n",
       "66  33.000000  1.000000\n",
       "67   5.883137  6.751390\n",
       "\n",
       "[68 rows x 2 columns]"
      ]
     },
     "execution_count": 86,
     "metadata": {},
     "output_type": "execute_result"
    }
   ],
   "source": [
    "raw_data = pd.read_csv(\"data/FlightPath.csv\", header=None)\n",
    "raw_data"
   ]
  },
  {
   "cell_type": "code",
   "execution_count": 87,
   "metadata": {},
   "outputs": [
    {
     "data": {
      "text/plain": [
       "Int64Index([ 0,  1,  2,  3,  4,  5,  6,  7,  8,  9, 10, 11, 12, 13, 14, 15, 16,\n",
       "            17, 18, 19, 20, 21, 22, 23, 24, 25, 26, 27, 28, 29, 30, 31, 32,\n",
       "            33],\n",
       "           dtype='int64', name='Scan')"
      ]
     },
     "execution_count": 87,
     "metadata": {},
     "output_type": "execute_result"
    }
   ],
   "source": [
    "csv_index = pd.Index(raw_data[0][::2], dtype='int', name=\"Scan\")\n",
    "csv_index"
   ]
  },
  {
   "cell_type": "code",
   "execution_count": 88,
   "metadata": {},
   "outputs": [
    {
     "data": {
      "text/html": [
       "<div>\n",
       "<style scoped>\n",
       "    .dataframe tbody tr th:only-of-type {\n",
       "        vertical-align: middle;\n",
       "    }\n",
       "\n",
       "    .dataframe tbody tr th {\n",
       "        vertical-align: top;\n",
       "    }\n",
       "\n",
       "    .dataframe thead th {\n",
       "        text-align: right;\n",
       "    }\n",
       "</style>\n",
       "<table border=\"1\" class=\"dataframe\">\n",
       "  <thead>\n",
       "    <tr style=\"text-align: right;\">\n",
       "      <th></th>\n",
       "      <th>X</th>\n",
       "      <th>Y</th>\n",
       "    </tr>\n",
       "    <tr>\n",
       "      <th>Scan</th>\n",
       "      <th></th>\n",
       "      <th></th>\n",
       "    </tr>\n",
       "  </thead>\n",
       "  <tbody>\n",
       "    <tr>\n",
       "      <th>0</th>\n",
       "      <td>12.872340</td>\n",
       "      <td>3.622990</td>\n",
       "    </tr>\n",
       "    <tr>\n",
       "      <th>1</th>\n",
       "      <td>13.910740</td>\n",
       "      <td>4.694889</td>\n",
       "    </tr>\n",
       "    <tr>\n",
       "      <th>2</th>\n",
       "      <td>14.912220</td>\n",
       "      <td>5.696368</td>\n",
       "    </tr>\n",
       "    <tr>\n",
       "      <th>3</th>\n",
       "      <td>15.982300</td>\n",
       "      <td>6.766453</td>\n",
       "    </tr>\n",
       "    <tr>\n",
       "      <th>4</th>\n",
       "      <td>16.682690</td>\n",
       "      <td>7.500103</td>\n",
       "    </tr>\n",
       "    <tr>\n",
       "      <th>5</th>\n",
       "      <td>17.185110</td>\n",
       "      <td>8.036117</td>\n",
       "    </tr>\n",
       "    <tr>\n",
       "      <th>6</th>\n",
       "      <td>17.185110</td>\n",
       "      <td>9.204402</td>\n",
       "    </tr>\n",
       "    <tr>\n",
       "      <th>7</th>\n",
       "      <td>17.155300</td>\n",
       "      <td>10.234630</td>\n",
       "    </tr>\n",
       "    <tr>\n",
       "      <th>8</th>\n",
       "      <td>17.155300</td>\n",
       "      <td>11.243450</td>\n",
       "    </tr>\n",
       "    <tr>\n",
       "      <th>9</th>\n",
       "      <td>17.155300</td>\n",
       "      <td>12.156220</td>\n",
       "    </tr>\n",
       "    <tr>\n",
       "      <th>10</th>\n",
       "      <td>17.155300</td>\n",
       "      <td>13.265070</td>\n",
       "    </tr>\n",
       "    <tr>\n",
       "      <th>11</th>\n",
       "      <td>17.155300</td>\n",
       "      <td>14.333770</td>\n",
       "    </tr>\n",
       "    <tr>\n",
       "      <th>12</th>\n",
       "      <td>16.180680</td>\n",
       "      <td>14.333770</td>\n",
       "    </tr>\n",
       "    <tr>\n",
       "      <th>13</th>\n",
       "      <td>15.122530</td>\n",
       "      <td>14.333770</td>\n",
       "    </tr>\n",
       "    <tr>\n",
       "      <th>14</th>\n",
       "      <td>14.199660</td>\n",
       "      <td>14.333770</td>\n",
       "    </tr>\n",
       "    <tr>\n",
       "      <th>15</th>\n",
       "      <td>13.295760</td>\n",
       "      <td>14.333770</td>\n",
       "    </tr>\n",
       "    <tr>\n",
       "      <th>16</th>\n",
       "      <td>12.192620</td>\n",
       "      <td>14.705450</td>\n",
       "    </tr>\n",
       "    <tr>\n",
       "      <th>17</th>\n",
       "      <td>11.720750</td>\n",
       "      <td>14.705450</td>\n",
       "    </tr>\n",
       "    <tr>\n",
       "      <th>18</th>\n",
       "      <td>10.622720</td>\n",
       "      <td>14.705450</td>\n",
       "    </tr>\n",
       "    <tr>\n",
       "      <th>19</th>\n",
       "      <td>9.550129</td>\n",
       "      <td>15.743910</td>\n",
       "    </tr>\n",
       "    <tr>\n",
       "      <th>20</th>\n",
       "      <td>8.365144</td>\n",
       "      <td>15.743910</td>\n",
       "    </tr>\n",
       "    <tr>\n",
       "      <th>21</th>\n",
       "      <td>7.229892</td>\n",
       "      <td>15.743910</td>\n",
       "    </tr>\n",
       "    <tr>\n",
       "      <th>22</th>\n",
       "      <td>5.985132</td>\n",
       "      <td>14.465860</td>\n",
       "    </tr>\n",
       "    <tr>\n",
       "      <th>23</th>\n",
       "      <td>4.784015</td>\n",
       "      <td>13.298790</td>\n",
       "    </tr>\n",
       "    <tr>\n",
       "      <th>24</th>\n",
       "      <td>5.809554</td>\n",
       "      <td>12.306730</td>\n",
       "    </tr>\n",
       "    <tr>\n",
       "      <th>25</th>\n",
       "      <td>6.656697</td>\n",
       "      <td>12.306730</td>\n",
       "    </tr>\n",
       "    <tr>\n",
       "      <th>26</th>\n",
       "      <td>6.656697</td>\n",
       "      <td>11.297570</td>\n",
       "    </tr>\n",
       "    <tr>\n",
       "      <th>27</th>\n",
       "      <td>6.656697</td>\n",
       "      <td>9.293468</td>\n",
       "    </tr>\n",
       "    <tr>\n",
       "      <th>28</th>\n",
       "      <td>8.075599</td>\n",
       "      <td>9.293468</td>\n",
       "    </tr>\n",
       "    <tr>\n",
       "      <th>29</th>\n",
       "      <td>8.850136</td>\n",
       "      <td>9.618441</td>\n",
       "    </tr>\n",
       "    <tr>\n",
       "      <th>30</th>\n",
       "      <td>8.850136</td>\n",
       "      <td>7.513073</td>\n",
       "    </tr>\n",
       "    <tr>\n",
       "      <th>31</th>\n",
       "      <td>7.718620</td>\n",
       "      <td>6.381560</td>\n",
       "    </tr>\n",
       "    <tr>\n",
       "      <th>32</th>\n",
       "      <td>6.848592</td>\n",
       "      <td>5.578642</td>\n",
       "    </tr>\n",
       "    <tr>\n",
       "      <th>33</th>\n",
       "      <td>5.883137</td>\n",
       "      <td>6.751390</td>\n",
       "    </tr>\n",
       "  </tbody>\n",
       "</table>\n",
       "</div>"
      ],
      "text/plain": [
       "              X          Y\n",
       "Scan                      \n",
       "0     12.872340   3.622990\n",
       "1     13.910740   4.694889\n",
       "2     14.912220   5.696368\n",
       "3     15.982300   6.766453\n",
       "4     16.682690   7.500103\n",
       "5     17.185110   8.036117\n",
       "6     17.185110   9.204402\n",
       "7     17.155300  10.234630\n",
       "8     17.155300  11.243450\n",
       "9     17.155300  12.156220\n",
       "10    17.155300  13.265070\n",
       "11    17.155300  14.333770\n",
       "12    16.180680  14.333770\n",
       "13    15.122530  14.333770\n",
       "14    14.199660  14.333770\n",
       "15    13.295760  14.333770\n",
       "16    12.192620  14.705450\n",
       "17    11.720750  14.705450\n",
       "18    10.622720  14.705450\n",
       "19     9.550129  15.743910\n",
       "20     8.365144  15.743910\n",
       "21     7.229892  15.743910\n",
       "22     5.985132  14.465860\n",
       "23     4.784015  13.298790\n",
       "24     5.809554  12.306730\n",
       "25     6.656697  12.306730\n",
       "26     6.656697  11.297570\n",
       "27     6.656697   9.293468\n",
       "28     8.075599   9.293468\n",
       "29     8.850136   9.618441\n",
       "30     8.850136   7.513073\n",
       "31     7.718620   6.381560\n",
       "32     6.848592   5.578642\n",
       "33     5.883137   6.751390"
      ]
     },
     "execution_count": 88,
     "metadata": {},
     "output_type": "execute_result"
    }
   ],
   "source": [
    "scan_coords = pd.DataFrame(raw_data[1::2])\n",
    "scan_coords.columns=['X', 'Y']\n",
    "scan_coords.index = csv_index\n",
    "scan_coords"
   ]
  },
  {
   "cell_type": "code",
   "execution_count": 89,
   "metadata": {},
   "outputs": [
    {
     "data": {
      "image/png": "[encoded data removed]",
      "text/plain": [
       "<Figure size 432x288 with 1 Axes>"
      ]
     },
     "metadata": {
      "needs_background": "light"
     },
     "output_type": "display_data"
    }
   ],
   "source": [
    "ax1 = scan_coords.plot(x='X', y='Y')"
   ]
  },
  {
   "cell_type": "code",
   "execution_count": 90,
   "metadata": {},
   "outputs": [],
   "source": [
    "#Read csv and process iteratively\n",
    "\n",
    "import csv\n",
    "from collections import defaultdict\n",
    "\n",
    "dic = defaultdict(list)\n",
    "\n",
    "with open(\"data/LIDARPoints.csv\", \"r\") as f:\n",
    "    reader = csv.reader(f, delimiter=\",\")\n",
    "    read_sweep_data = True\n",
    "    n_sweep_in_scan = 0\n",
    "    current_sweep = 99999\n",
    "    current_scan = 0\n",
    "    for i, line in enumerate(reader):\n",
    "        if current_sweep < n_sweep_in_scan:             \n",
    "            #append\n",
    "            #print(i, line, current_scan)\n",
    "            dic[\"Scan\"].append(current_scan)\n",
    "            dic[\"Angle\"].append(float(line[0]))\n",
    "            dic[\"Distance\"].append(float(line[1]))\n",
    "            current_sweep += 1\n",
    "        else:\n",
    "            current_scan = int(line[0])\n",
    "            n_sweep_in_scan = int(line[1])\n",
    "            current_sweep = 0"
   ]
  },
  {
   "cell_type": "code",
   "execution_count": 91,
   "metadata": {},
   "outputs": [
    {
     "data": {
      "text/html": [
       "<div>\n",
       "<style scoped>\n",
       "    .dataframe tbody tr th:only-of-type {\n",
       "        vertical-align: middle;\n",
       "    }\n",
       "\n",
       "    .dataframe tbody tr th {\n",
       "        vertical-align: top;\n",
       "    }\n",
       "\n",
       "    .dataframe thead th {\n",
       "        text-align: right;\n",
       "    }\n",
       "</style>\n",
       "<table border=\"1\" class=\"dataframe\">\n",
       "  <thead>\n",
       "    <tr style=\"text-align: right;\">\n",
       "      <th></th>\n",
       "      <th>Scan</th>\n",
       "      <th>Angle</th>\n",
       "      <th>Distance</th>\n",
       "    </tr>\n",
       "  </thead>\n",
       "  <tbody>\n",
       "    <tr>\n",
       "      <th>0</th>\n",
       "      <td>0</td>\n",
       "      <td>1.096680</td>\n",
       "      <td>8964.0</td>\n",
       "    </tr>\n",
       "    <tr>\n",
       "      <th>1</th>\n",
       "      <td>0</td>\n",
       "      <td>1.771484</td>\n",
       "      <td>8967.0</td>\n",
       "    </tr>\n",
       "    <tr>\n",
       "      <th>2</th>\n",
       "      <td>0</td>\n",
       "      <td>2.446777</td>\n",
       "      <td>8970.0</td>\n",
       "    </tr>\n",
       "    <tr>\n",
       "      <th>3</th>\n",
       "      <td>0</td>\n",
       "      <td>3.121582</td>\n",
       "      <td>8976.0</td>\n",
       "    </tr>\n",
       "    <tr>\n",
       "      <th>4</th>\n",
       "      <td>0</td>\n",
       "      <td>3.796875</td>\n",
       "      <td>8982.0</td>\n",
       "    </tr>\n",
       "    <tr>\n",
       "      <th>...</th>\n",
       "      <td>...</td>\n",
       "      <td>...</td>\n",
       "      <td>...</td>\n",
       "    </tr>\n",
       "    <tr>\n",
       "      <th>18126</th>\n",
       "      <td>33</td>\n",
       "      <td>357.600100</td>\n",
       "      <td>3986.0</td>\n",
       "    </tr>\n",
       "    <tr>\n",
       "      <th>18127</th>\n",
       "      <td>33</td>\n",
       "      <td>358.274900</td>\n",
       "      <td>3985.0</td>\n",
       "    </tr>\n",
       "    <tr>\n",
       "      <th>18128</th>\n",
       "      <td>33</td>\n",
       "      <td>358.949700</td>\n",
       "      <td>3984.0</td>\n",
       "    </tr>\n",
       "    <tr>\n",
       "      <th>18129</th>\n",
       "      <td>33</td>\n",
       "      <td>359.625000</td>\n",
       "      <td>3983.0</td>\n",
       "    </tr>\n",
       "    <tr>\n",
       "      <th>18130</th>\n",
       "      <td>33</td>\n",
       "      <td>0.299805</td>\n",
       "      <td>3983.0</td>\n",
       "    </tr>\n",
       "  </tbody>\n",
       "</table>\n",
       "<p>18131 rows × 3 columns</p>\n",
       "</div>"
      ],
      "text/plain": [
       "       Scan       Angle  Distance\n",
       "0         0    1.096680    8964.0\n",
       "1         0    1.771484    8967.0\n",
       "2         0    2.446777    8970.0\n",
       "3         0    3.121582    8976.0\n",
       "4         0    3.796875    8982.0\n",
       "...     ...         ...       ...\n",
       "18126    33  357.600100    3986.0\n",
       "18127    33  358.274900    3985.0\n",
       "18128    33  358.949700    3984.0\n",
       "18129    33  359.625000    3983.0\n",
       "18130    33    0.299805    3983.0\n",
       "\n",
       "[18131 rows x 3 columns]"
      ]
     },
     "execution_count": 91,
     "metadata": {},
     "output_type": "execute_result"
    }
   ],
   "source": [
    "obstacle_data = pd.DataFrame(dic)\n",
    "obstacle_data"
   ]
  },
  {
   "cell_type": "code",
   "execution_count": 92,
   "metadata": {},
   "outputs": [],
   "source": [
    "obstacle_data_coords = obstacle_data.join(other=scan_coords, on=\"Scan\")"
   ]
  },
  {
   "cell_type": "code",
   "execution_count": 93,
   "metadata": {},
   "outputs": [],
   "source": [
    "#Filter out outliers, distance < 10cm to the sensor does not make sense\n",
    "\n",
    "obstacle_data_coords = obstacle_data_coords[obstacle_data_coords[\"Distance\"]> 100]"
   ]
  },
  {
   "cell_type": "code",
   "execution_count": 94,
   "metadata": {},
   "outputs": [],
   "source": [
    "obstacle_data_coords['X'] = obstacle_data_coords['X'] + ((obstacle_data_coords['Distance'] / 1000) * np.cos(np.radians(obstacle_data_coords['Angle'])))\n",
    "obstacle_data_coords['Y'] = obstacle_data_coords['Y'] - ((obstacle_data_coords['Distance'] / 1000) * np.sin(np.radians(obstacle_data_coords['Angle'])))"
   ]
  },
  {
   "cell_type": "code",
   "execution_count": 95,
   "metadata": {},
   "outputs": [
    {
     "data": {
      "image/png": "[encoded data removed]",
      "text/plain": [
       "<Figure size 1080x720 with 1 Axes>"
      ]
     },
     "metadata": {
      "needs_background": "light"
     },
     "output_type": "display_data"
    }
   ],
   "source": [
    "fig = plt.figure(figsize=(15, 10))\n",
    "ax1 = fig.add_subplot(111)\n",
    "\n",
    "ax1.scatter(obstacle_data_coords['X'][obstacle_data_coords['Scan'] > 0], obstacle_data_coords['Y'][obstacle_data_coords['Scan'] > 0], marker=\"s\", label='obstacle', alpha=0.3)\n",
    "#ax1.plot(scan_coords['X'], scan_coords['Y'], \"ok-\", label='path', color=\"orange\")\n",
    "\n",
    "ax1.legend()\n",
    "plt.show()"
   ]
  },
  {
   "cell_type": "code",
   "execution_count": 118,
   "metadata": {},
   "outputs": [
    {
     "name": "stdout",
     "output_type": "stream",
     "text": [
      "197 146\n"
     ]
    }
   ],
   "source": [
    "grid_coords = obstacle_data_coords[[\"X\", \"Y\"]].copy()\n",
    "\n",
    "division_size = 0.1 # 10cm by 10cm subdivisions\n",
    "\n",
    "X_res = int((grid_coords[\"X\"].max() - grid_coords[\"X\"].min()) / division_size)\n",
    "Y_res = int((grid_coords[\"Y\"].max() - grid_coords[\"Y\"].min()) / division_size)\n",
    "\n",
    "X_bin = np.linspace(grid_coords[\"X\"].min(), grid_coords[\"X\"].max(), X_res)\n",
    "Y_bin = np.linspace(grid_coords[\"Y\"].min(), grid_coords[\"Y\"].max(), Y_res)\n",
    "\n",
    "x_quantized_coords = np.digitize(grid_coords[\"X\"], bins=X_bin)\n",
    "y_quantized_coords = np.digitize(grid_coords[\"Y\"], bins=Y_bin)\n",
    "\n",
    "grid_obstacles_coords = np.c_[x_quantized_coords, y_quantized_coords]\n",
    "grid_obstacles_coords = grid_obstacles_coords - 1\n",
    "print(X_res,Y_res)"
   ]
  },
  {
   "cell_type": "code",
   "execution_count": 119,
   "metadata": {},
   "outputs": [
    {
     "data": {
      "text/plain": [
       "<matplotlib.image.AxesImage at 0x7f141fe20710>"
      ]
     },
     "execution_count": 119,
     "metadata": {},
     "output_type": "execute_result"
    },
    {
     "data": {
      "image/png": "[encoded data removed]",
      "text/plain": [
       "<Figure size 1440x1080 with 1 Axes>"
      ]
     },
     "metadata": {
      "needs_background": "light"
     },
     "output_type": "display_data"
    }
   ],
   "source": [
    "grid = np.zeros((X_res, Y_res), int)\n",
    "np.add.at(grid, tuple(zip(*grid_obstacles_coords)), 1)\n",
    "\n",
    "plt.figure(figsize = (20,15))\n",
    "plt.imshow(grid, interpolation='nearest')"
   ]
  },
  {
   "cell_type": "code",
   "execution_count": 126,
   "metadata": {},
   "outputs": [
    {
     "data": {
      "text/plain": [
       "<matplotlib.image.AxesImage at 0x7f141f840d10>"
      ]
     },
     "execution_count": 126,
     "metadata": {},
     "output_type": "execute_result"
    },
    {
     "data": {
      "image/png": "[encoded data removed]",
      "text/plain": [
       "<Figure size 1440x1080 with 1 Axes>"
      ]
     },
     "metadata": {
      "needs_background": "light"
     },
     "output_type": "display_data"
    }
   ],
   "source": [
    "tolerance = 0\n",
    "bin_map = (grid > tolerance)\n",
    "\n",
    "plt.figure(figsize = (20,15))\n",
    "plt.imshow(bin_map)"
   ]
  },
  {
   "cell_type": "code",
   "execution_count": 130,
   "metadata": {},
   "outputs": [
    {
     "data": {
      "text/plain": [
       "X    12.87234\n",
       "Y     3.62299\n",
       "Name: 0, dtype: float64"
      ]
     },
     "execution_count": 130,
     "metadata": {},
     "output_type": "execute_result"
    }
   ],
   "source": [
    "start_point = scan_coords.iloc[0]\n",
    "end_point = scan"
   ]
  }
 ],
 "metadata": {
  "file_extension": ".py",
  "kernelspec": {
   "display_name": "Python 3",
   "language": "python",
   "name": "python3"
  },
  "language_info": {
   "codemirror_mode": {
    "name": "ipython",
    "version": 3
   },
   "file_extension": ".py",
   "mimetype": "text/x-python",
   "name": "python",
   "nbconvert_exporter": "python",
   "pygments_lexer": "ipython3",
   "version": "3.7.4"
  },
  "mimetype": "text/x-python",
  "name": "python",
  "npconvert_exporter": "python",
  "pygments_lexer": "ipython3",
  "version": 3
 },
 "nbformat": 4,
 "nbformat_minor": 2
}
